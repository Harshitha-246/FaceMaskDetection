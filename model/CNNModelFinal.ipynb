{
  "nbformat": 4,
  "nbformat_minor": 0,
  "metadata": {
    "colab": {
      "name": "CNNModelFinal.ipynb",
      "provenance": [],
      "collapsed_sections": []
    },
    "kernelspec": {
      "name": "python3",
      "display_name": "Python 3"
    },
    "language_info": {
      "name": "python"
    },
    "accelerator": "GPU"
  },
  "cells": [
    {
      "cell_type": "code",
      "metadata": {
        "colab": {
          "base_uri": "https://localhost:8080/"
        },
        "id": "3vomCtRWWylg",
        "outputId": "22fcbd4d-4891-43da-e046-cee85166b590"
      },
      "source": [
        "from google.colab import drive\n",
        "drive.mount('/content/gdrive',force_remount=True)"
      ],
      "execution_count": 1,
      "outputs": [
        {
          "output_type": "stream",
          "name": "stdout",
          "text": [
            "Mounted at /content/gdrive\n"
          ]
        }
      ]
    },
    {
      "cell_type": "code",
      "metadata": {
        "id": "zV9snWItXAZz"
      },
      "source": [
        "!unzip gdrive/My\\ Drive/data.zip"
      ],
      "execution_count": null,
      "outputs": []
    },
    {
      "cell_type": "code",
      "metadata": {
        "colab": {
          "base_uri": "https://localhost:8080/"
        },
        "id": "W5Pk6hg8XCWC",
        "outputId": "e9086e55-3f3c-4b06-8d7f-acf5cbe2ba8b"
      },
      "source": [
        "import cv2,os\n",
        "\n",
        "data_path='/content/data'\n",
        "categories=os.listdir(data_path)\n",
        "labels=[i for i in range(len(categories))]\n",
        "\n",
        "label_dict = (dict(zip(categories,labels)))\n",
        "print(label_dict)\n",
        "print(categories)\n",
        "print(labels)"
      ],
      "execution_count": 3,
      "outputs": [
        {
          "output_type": "stream",
          "name": "stdout",
          "text": [
            "{'with_mask': 0, 'without_mask': 1}\n",
            "['with_mask', 'without_mask']\n",
            "[0, 1]\n"
          ]
        }
      ]
    },
    {
      "cell_type": "code",
      "metadata": {
        "id": "QD8qzbFKXEpK"
      },
      "source": [
        "img_size=100\n",
        "data=[]\n",
        "target=[]\n",
        "\n",
        "for category in categories:\n",
        "    folder_path=os.path.join(data_path,category)\n",
        "    img_names=os.listdir(folder_path)\n",
        "        \n",
        "    for img_name in img_names:\n",
        "        img_path=os.path.join(folder_path,img_name)\n",
        "        img=cv2.imread(img_path)\n",
        "\n",
        "        try:\n",
        "            gray=cv2.cvtColor(img,cv2.COLOR_BGR2GRAY)\n",
        "            resized=cv2.resize(gray,(img_size,img_size))\n",
        "            data.append(resized)\n",
        "            target.append(label_dict[category])\n",
        "\n",
        "        except Exception as e:\n",
        "            print('Exception:',e)"
      ],
      "execution_count": 4,
      "outputs": []
    },
    {
      "cell_type": "code",
      "metadata": {
        "id": "X_Fs3AslXG9i"
      },
      "source": [
        "import numpy as np\n",
        "\n",
        "data=np.array(data)/255.0\n",
        "data=np.reshape(data,(data.shape[0],img_size,img_size,1))\n",
        "target=np.array(target)\n",
        "\n",
        "from keras.utils import np_utils\n",
        "\n",
        "new_target=np_utils.to_categorical(target)\n",
        "np.save('data',data)\n",
        "np.save('target',new_target)"
      ],
      "execution_count": 5,
      "outputs": []
    },
    {
      "cell_type": "code",
      "metadata": {
        "id": "JQsPLkuXB1CN"
      },
      "source": [
        "import numpy as np\n",
        "\n",
        "data=np.load('data.npy')\n",
        "target=np.load('target.npy')"
      ],
      "execution_count": 6,
      "outputs": []
    },
    {
      "cell_type": "code",
      "metadata": {
        "id": "HcINpjCyXJE0"
      },
      "source": [
        "from keras.models import Sequential\n",
        "from keras.layers import Dense,Activation,Flatten,Dropout,Conv2D,MaxPooling2D\n",
        "from keras.callbacks import ModelCheckpoint\n",
        "\n",
        "model=Sequential()\n",
        "model.add(Conv2D(128,(3,3),activation='relu',input_shape=data.shape[1:]))\n",
        "model.add(MaxPooling2D(pool_size=3))\n",
        "model.add(Conv2D(64,(3,3),activation='relu'))\n",
        "model.add(MaxPooling2D(pool_size=3))\n",
        "model.add(Conv2D(64,(3,3),activation='relu'))\n",
        "model.add(MaxPooling2D(pool_size=3))\n",
        "model.add(Flatten())\n",
        "model.add(Dense(32,activation='relu'))\n",
        "model.add(Dropout(0.5))\n",
        "model.add(Dense(32,activation='relu'))\n",
        "model.add(Dropout(0.5))\n",
        "model.add(Dense(2,activation='softmax'))\n",
        "\n",
        "model.compile(optimizer='adam',loss='categorical_crossentropy',metrics=['accuracy'])"
      ],
      "execution_count": 8,
      "outputs": []
    },
    {
      "cell_type": "code",
      "metadata": {
        "colab": {
          "base_uri": "https://localhost:8080/"
        },
        "id": "FPgPIICgXNdy",
        "outputId": "83a1c19a-101e-4927-d1df-d5477b2fcc57"
      },
      "source": [
        "model.summary()"
      ],
      "execution_count": 9,
      "outputs": [
        {
          "output_type": "stream",
          "name": "stdout",
          "text": [
            "Model: \"sequential_1\"\n",
            "_________________________________________________________________\n",
            " Layer (type)                Output Shape              Param #   \n",
            "=================================================================\n",
            " conv2d_3 (Conv2D)           (None, 98, 98, 128)       1280      \n",
            "                                                                 \n",
            " max_pooling2d_3 (MaxPooling  (None, 32, 32, 128)      0         \n",
            " 2D)                                                             \n",
            "                                                                 \n",
            " conv2d_4 (Conv2D)           (None, 30, 30, 64)        73792     \n",
            "                                                                 \n",
            " max_pooling2d_4 (MaxPooling  (None, 10, 10, 64)       0         \n",
            " 2D)                                                             \n",
            "                                                                 \n",
            " conv2d_5 (Conv2D)           (None, 8, 8, 64)          36928     \n",
            "                                                                 \n",
            " max_pooling2d_5 (MaxPooling  (None, 2, 2, 64)         0         \n",
            " 2D)                                                             \n",
            "                                                                 \n",
            " flatten_1 (Flatten)         (None, 256)               0         \n",
            "                                                                 \n",
            " dense_3 (Dense)             (None, 32)                8224      \n",
            "                                                                 \n",
            " dropout_2 (Dropout)         (None, 32)                0         \n",
            "                                                                 \n",
            " dense_4 (Dense)             (None, 32)                1056      \n",
            "                                                                 \n",
            " dropout_3 (Dropout)         (None, 32)                0         \n",
            "                                                                 \n",
            " dense_5 (Dense)             (None, 2)                 66        \n",
            "                                                                 \n",
            "=================================================================\n",
            "Total params: 121,346\n",
            "Trainable params: 121,346\n",
            "Non-trainable params: 0\n",
            "_________________________________________________________________\n"
          ]
        }
      ]
    },
    {
      "cell_type": "code",
      "metadata": {
        "colab": {
          "base_uri": "https://localhost:8080/"
        },
        "id": "cGqh-Y0RXRx7",
        "outputId": "046e56a1-aa62-49a0-cb45-16bff49b4e33"
      },
      "source": [
        "from sklearn.model_selection import train_test_split\n",
        "\n",
        "train_data,test_data,train_target,test_target=train_test_split(data,target,test_size=0.2)\n",
        "checkpoint = ModelCheckpoint('model-{epoch:03d}.model',monitor='val_loss',verbose=1,save_best_only=True,mode='auto')\n",
        "history=model.fit(train_data,train_target,epochs=14,callbacks=[checkpoint],validation_split=0.1)"
      ],
      "execution_count": 10,
      "outputs": [
        {
          "output_type": "stream",
          "name": "stdout",
          "text": [
            "Epoch 1/14\n",
            "170/170 [==============================] - ETA: 0s - loss: 0.6819 - accuracy: 0.5599\n",
            "Epoch 00001: val_loss improved from inf to 0.65108, saving model to model-001.model\n",
            "INFO:tensorflow:Assets written to: model-001.model/assets\n",
            "170/170 [==============================] - 19s 51ms/step - loss: 0.6819 - accuracy: 0.5599 - val_loss: 0.6511 - val_accuracy: 0.6430\n",
            "Epoch 2/14\n",
            "169/170 [============================>.] - ETA: 0s - loss: 0.6020 - accuracy: 0.6790\n",
            "Epoch 00002: val_loss improved from 0.65108 to 0.50688, saving model to model-002.model\n",
            "INFO:tensorflow:Assets written to: model-002.model/assets\n",
            "170/170 [==============================] - 8s 47ms/step - loss: 0.6015 - accuracy: 0.6796 - val_loss: 0.5069 - val_accuracy: 0.7686\n",
            "Epoch 3/14\n",
            "169/170 [============================>.] - ETA: 0s - loss: 0.4704 - accuracy: 0.7986\n",
            "Epoch 00003: val_loss improved from 0.50688 to 0.38788, saving model to model-003.model\n",
            "INFO:tensorflow:Assets written to: model-003.model/assets\n",
            "170/170 [==============================] - 8s 46ms/step - loss: 0.4702 - accuracy: 0.7988 - val_loss: 0.3879 - val_accuracy: 0.8298\n",
            "Epoch 4/14\n",
            "169/170 [============================>.] - ETA: 0s - loss: 0.3712 - accuracy: 0.8502\n",
            "Epoch 00004: val_loss improved from 0.38788 to 0.33928, saving model to model-004.model\n",
            "INFO:tensorflow:Assets written to: model-004.model/assets\n",
            "170/170 [==============================] - 8s 46ms/step - loss: 0.3715 - accuracy: 0.8503 - val_loss: 0.3393 - val_accuracy: 0.8612\n",
            "Epoch 5/14\n",
            "169/170 [============================>.] - ETA: 0s - loss: 0.3316 - accuracy: 0.8741\n",
            "Epoch 00005: val_loss improved from 0.33928 to 0.28029, saving model to model-005.model\n",
            "INFO:tensorflow:Assets written to: model-005.model/assets\n",
            "170/170 [==============================] - 8s 48ms/step - loss: 0.3310 - accuracy: 0.8742 - val_loss: 0.2803 - val_accuracy: 0.8777\n",
            "Epoch 6/14\n",
            "169/170 [============================>.] - ETA: 0s - loss: 0.2853 - accuracy: 0.8968\n",
            "Epoch 00006: val_loss did not improve from 0.28029\n",
            "170/170 [==============================] - 6s 36ms/step - loss: 0.2856 - accuracy: 0.8965 - val_loss: 0.3164 - val_accuracy: 0.8595\n",
            "Epoch 7/14\n",
            "169/170 [============================>.] - ETA: 0s - loss: 0.2635 - accuracy: 0.8990\n",
            "Epoch 00007: val_loss improved from 0.28029 to 0.25059, saving model to model-007.model\n",
            "INFO:tensorflow:Assets written to: model-007.model/assets\n",
            "170/170 [==============================] - 8s 47ms/step - loss: 0.2631 - accuracy: 0.8990 - val_loss: 0.2506 - val_accuracy: 0.8992\n",
            "Epoch 8/14\n",
            "169/170 [============================>.] - ETA: 0s - loss: 0.2345 - accuracy: 0.9181\n",
            "Epoch 00008: val_loss did not improve from 0.25059\n",
            "170/170 [==============================] - 6s 36ms/step - loss: 0.2356 - accuracy: 0.9176 - val_loss: 0.2659 - val_accuracy: 0.9008\n",
            "Epoch 9/14\n",
            "169/170 [============================>.] - ETA: 0s - loss: 0.2103 - accuracy: 0.9242\n",
            "Epoch 00009: val_loss improved from 0.25059 to 0.20719, saving model to model-009.model\n",
            "INFO:tensorflow:Assets written to: model-009.model/assets\n",
            "170/170 [==============================] - 8s 46ms/step - loss: 0.2102 - accuracy: 0.9242 - val_loss: 0.2072 - val_accuracy: 0.9240\n",
            "Epoch 10/14\n",
            "170/170 [==============================] - ETA: 0s - loss: 0.1819 - accuracy: 0.9389\n",
            "Epoch 00010: val_loss did not improve from 0.20719\n",
            "170/170 [==============================] - 6s 36ms/step - loss: 0.1819 - accuracy: 0.9389 - val_loss: 0.2254 - val_accuracy: 0.9058\n",
            "Epoch 11/14\n",
            "169/170 [============================>.] - ETA: 0s - loss: 0.1692 - accuracy: 0.9405\n",
            "Epoch 00011: val_loss improved from 0.20719 to 0.19800, saving model to model-011.model\n",
            "INFO:tensorflow:Assets written to: model-011.model/assets\n",
            "170/170 [==============================] - 8s 48ms/step - loss: 0.1689 - accuracy: 0.9404 - val_loss: 0.1980 - val_accuracy: 0.9289\n",
            "Epoch 12/14\n",
            "169/170 [============================>.] - ETA: 0s - loss: 0.1550 - accuracy: 0.9455\n",
            "Epoch 00012: val_loss did not improve from 0.19800\n",
            "170/170 [==============================] - 6s 36ms/step - loss: 0.1547 - accuracy: 0.9456 - val_loss: 0.2293 - val_accuracy: 0.9256\n",
            "Epoch 13/14\n",
            "169/170 [============================>.] - ETA: 0s - loss: 0.1536 - accuracy: 0.9484\n",
            "Epoch 00013: val_loss did not improve from 0.19800\n",
            "170/170 [==============================] - 6s 36ms/step - loss: 0.1537 - accuracy: 0.9481 - val_loss: 0.2052 - val_accuracy: 0.9256\n",
            "Epoch 14/14\n",
            "169/170 [============================>.] - ETA: 0s - loss: 0.1198 - accuracy: 0.9599\n",
            "Epoch 00014: val_loss did not improve from 0.19800\n",
            "170/170 [==============================] - 6s 36ms/step - loss: 0.1210 - accuracy: 0.9590 - val_loss: 0.2438 - val_accuracy: 0.9240\n"
          ]
        }
      ]
    },
    {
      "cell_type": "code",
      "metadata": {
        "colab": {
          "base_uri": "https://localhost:8080/",
          "height": 280
        },
        "id": "8iPh819QXR7s",
        "outputId": "3937eb4c-6ec9-426b-c543-0bd86e670b54"
      },
      "source": [
        "from matplotlib import pyplot as plt\n",
        "\n",
        "plt.plot(history.history['loss'],'r',label='training loss')\n",
        "plt.plot(history.history['val_loss'],label='validation loss')\n",
        "plt.xlabel('Epochs')\n",
        "plt.ylabel('Loss')\n",
        "plt.legend()\n",
        "plt.show()"
      ],
      "execution_count": 11,
      "outputs": [
        {
          "output_type": "display_data",
          "data": {
            "image/png": "[encoded data removed]",
            "text/plain": [
              "<Figure size 432x288 with 1 Axes>"
            ]
          },
          "metadata": {
            "needs_background": "light"
          }
        }
      ]
    },
    {
      "cell_type": "code",
      "metadata": {
        "colab": {
          "base_uri": "https://localhost:8080/",
          "height": 278
        },
        "id": "qF7EvzFbXSHh",
        "outputId": "922cd912-42a6-435a-a17b-de132125589b"
      },
      "source": [
        "plt.plot(history.history['accuracy'],'r',label='training accuracy')\n",
        "plt.plot(history.history['val_accuracy'],label='validation accuracy')\n",
        "plt.xlabel('Epochs')\n",
        "plt.ylabel('Accuracy')\n",
        "plt.legend()\n",
        "plt.show()"
      ],
      "execution_count": 12,
      "outputs": [
        {
          "output_type": "display_data",
          "data": {
            "image/png": "[encoded data removed]",
            "text/plain": [
              "<Figure size 432x288 with 1 Axes>"
            ]
          },
          "metadata": {
            "needs_background": "light"
          }
        }
      ]
    },
    {
      "cell_type": "code",
      "metadata": {
        "colab": {
          "base_uri": "https://localhost:8080/"
        },
        "id": "DS2k0TPaXdbi",
        "outputId": "5f7f666d-2c24-4f3a-97b3-6c0dd730ca56"
      },
      "source": [
        "print(model.evaluate(test_data,test_target))"
      ],
      "execution_count": 13,
      "outputs": [
        {
          "output_type": "stream",
          "name": "stdout",
          "text": [
            "48/48 [==============================] - 1s 20ms/step - loss: 0.2865 - accuracy: 0.9080\n",
            "[0.2864694893360138, 0.9080079197883606]\n"
          ]
        }
      ]
    },
    {
      "cell_type": "code",
      "metadata": {
        "id": "IWRLy9SFFgkP"
      },
      "source": [
        "model.save('cnnmodel.h5')"
      ],
      "execution_count": 14,
      "outputs": []
    }
  ]
}